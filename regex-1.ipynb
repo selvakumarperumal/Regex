{
 "cells": [
  {
   "cell_type": "code",
   "execution_count": 1,
   "id": "6d3e4b69",
   "metadata": {},
   "outputs": [],
   "source": [
    "import re"
   ]
  },
  {
   "cell_type": "code",
   "execution_count": 2,
   "id": "2eed63f1",
   "metadata": {},
   "outputs": [],
   "source": [
    "text = \"elon musk's phone number is 9067455487 call him if you have any questions on dogecoin and telsa's value is 300 Billion, Tesla's CFO number (999)-333-7777\""
   ]
  },
  {
   "cell_type": "code",
   "execution_count": 6,
   "id": "bc208f62",
   "metadata": {},
   "outputs": [],
   "source": [
    "pattern = \"\\(\\d{3}\\)-\\d{3}-\\d{4}|\\d{10}\"\n",
    "\n",
    "qwe = re.findall(pattern, text)"
   ]
  },
  {
   "cell_type": "code",
   "execution_count": 7,
   "id": "ce01c108",
   "metadata": {},
   "outputs": [
    {
     "data": {
      "text/plain": [
       "['9067455487', '(999)-333-7777']"
      ]
     },
     "execution_count": 7,
     "metadata": {},
     "output_type": "execute_result"
    }
   ],
   "source": [
    "qwe"
   ]
  },
  {
   "cell_type": "code",
   "execution_count": 10,
   "id": "5fef2dba",
   "metadata": {},
   "outputs": [
    {
     "data": {
      "text/plain": [
       "['nvksnv', 'smk', 's', 'ds', 'sd', 'rdfdf']"
      ]
     },
     "execution_count": 10,
     "metadata": {},
     "output_type": "execute_result"
    }
   ],
   "source": [
    "text1 = \"!nvksnv:;smk:s:ds:sd-:rdfdf:;\"\n",
    "pattern1 = '[^!;:-]+'\n",
    "re.findall(pattern1, text1)"
   ]
  },
  {
   "cell_type": "code",
   "execution_count": 15,
   "id": "b3755110",
   "metadata": {},
   "outputs": [],
   "source": [
    "pattern2 = \"Note \\d - ([^\\n]+)\" #the open-close bracket captures whatever matches to that pattern inside\n",
    "text2 = '''\n",
    "Note 1 - Overview\n",
    "Tesla, Inc. (“Tesla”, the “Company”, “we”, “us” or “our”) was incorporated in the State of Delaware on July 1, 2003. We design, develop, manufacture and sell high-performance fully electric vehicles and design, manufacture, install and sell solar energy generation and energy storage\n",
    "products. Our Chief Executive Officer, as the chief operating decision maker (“CODM”), organizes our company, manages resource allocations and measures performance among two operating and reportable segments: (i) automotive and (ii) energy generation and storage.\n",
    "Beginning in the first quarter of 2021, there has been a trend in many parts of the world of increasing availability and administration of vaccines\n",
    "against COVID-19, as well as an easing of restrictions on social, business, travel and government activities and functions. On the other hand, infection\n",
    "rates and regulations continue to fluctuate in various regions and there are ongoing global impacts resulting from the pandemic, including challenges\n",
    "and increases in costs for logistics and supply chains, such as increased port congestion, intermittent supplier delays and a shortfall of semiconductor\n",
    "supply. We have also previously been affected by temporary manufacturing closures, employment and compensation adjustments and impediments to\n",
    "administrative activities supporting our product deliveries and deployments.\n",
    "Note 2 - Summary of Significant Accounting Policies\n",
    "Unaudited Interim Financial Statements\n",
    "The consolidated balance sheet as of September 30, 2021, the consolidated statements of operations, the consolidated statements of\n",
    "comprehensive income, the consolidated statements of redeemable noncontrolling interests and equity for the three and nine months ended September\n",
    "30, 2021 and 2020 and the consolidated statements of cash flows for the nine months ended September 30, 2021 and 2020, as well as other information\n",
    "disclosed in the accompanying notes, are unaudited. The consolidated balance sheet as of December 31, 2020 was derived from the audited\n",
    "consolidated financial statements as of that date. The interim consolidated financial statements and the accompanying notes should be read in\n",
    "conjunction with the annual consolidated financial statements and the accompanying notes contained in our Annual Report on Form 10-K for the year\n",
    "ended December 31, 2020.\n",
    "'''"
   ]
  },
  {
   "cell_type": "code",
   "execution_count": 16,
   "id": "aee9b9fb",
   "metadata": {},
   "outputs": [
    {
     "data": {
      "text/plain": [
       "['Overview', 'Summary of Significant Accounting Policies']"
      ]
     },
     "execution_count": 16,
     "metadata": {},
     "output_type": "execute_result"
    }
   ],
   "source": [
    "re.findall(pattern2, text2)"
   ]
  },
  {
   "cell_type": "code",
   "execution_count": 27,
   "id": "1a6c4ea4",
   "metadata": {},
   "outputs": [],
   "source": [
    "text3 = '''\n",
    "The gross cost of operating lease vehicles in FY2021 Q1 was $4.85 billion.\n",
    "In previous quarter i.e. FY2020 Q4 it was $3 billion. FY2021 Q5, fy2003 q3\n",
    "'''\n",
    "\n",
    "pattern3 = 'FY(\\d{4} Q[2-4])' #()"
   ]
  },
  {
   "cell_type": "code",
   "execution_count": 28,
   "id": "5a9fa390",
   "metadata": {},
   "outputs": [
    {
     "data": {
      "text/plain": [
       "['2020 Q4', '2003 q3']"
      ]
     },
     "execution_count": 28,
     "metadata": {},
     "output_type": "execute_result"
    }
   ],
   "source": [
    "re.findall(pattern3, text3, flags=re.IGNORECASE)"
   ]
  },
  {
   "cell_type": "code",
   "execution_count": 30,
   "id": "bc52603f",
   "metadata": {},
   "outputs": [
    {
     "data": {
      "text/plain": [
       "['4.85', '3']"
      ]
     },
     "execution_count": 30,
     "metadata": {},
     "output_type": "execute_result"
    }
   ],
   "source": [
    "pattern4 = '\\$([0-9\\.]+)'#note ()\n",
    "re.findall(pattern4, text3)"
   ]
  },
  {
   "cell_type": "code",
   "execution_count": 34,
   "id": "0f1fa866",
   "metadata": {},
   "outputs": [
    {
     "data": {
      "text/plain": [
       "[('2021 Q1', '4.85'), ('2020 Q4', '3')]"
      ]
     },
     "execution_count": 34,
     "metadata": {},
     "output_type": "execute_result"
    }
   ],
   "source": [
    "pattern5 = 'FY(\\d{4} Q[1-4])[^\\$]+\\$([0-9\\.]+)'\n",
    "re.findall(pattern5, text3, flags=re.IGNORECASE)"
   ]
  },
  {
   "cell_type": "code",
   "execution_count": 36,
   "id": "7c7d7f62",
   "metadata": {},
   "outputs": [
    {
     "data": {
      "text/plain": [
       "('2021 Q1', '4.85')"
      ]
     },
     "execution_count": 36,
     "metadata": {},
     "output_type": "execute_result"
    }
   ],
   "source": [
    "matches = re.search(pattern5, text3)# searches first occurance\n",
    "matches.groups()"
   ]
  },
  {
   "cell_type": "code",
   "execution_count": 37,
   "id": "ebaeeb15",
   "metadata": {},
   "outputs": [],
   "source": [
    "text4 = '''\n",
    "Follow our leader Elon musk on twitter here: https://twitter.com/elonmusk, more information \n",
    "on Tesla's products can be found at https://www.tesla.com/. Also here are leading influencers \n",
    "for tesla related news,\n",
    "https://twitter.com/teslarati\n",
    "https://twitter.com/dummy_tesla\n",
    "https://twitter.com/dummy_2_tesla\n",
    "'''"
   ]
  },
  {
   "cell_type": "code",
   "execution_count": 38,
   "id": "e8eb52c6",
   "metadata": {},
   "outputs": [],
   "source": [
    "pattern6 = 'https:\\/\\/twitter.com\\/([a-zA-Z0-9_]+)'\n",
    "twitter_acc = re.findall(pattern6, text4)"
   ]
  },
  {
   "cell_type": "code",
   "execution_count": 39,
   "id": "1c869238",
   "metadata": {},
   "outputs": [
    {
     "data": {
      "text/plain": [
       "['elonmusk', 'teslarati', 'dummy_tesla', 'dummy_2_tesla']"
      ]
     },
     "execution_count": 39,
     "metadata": {},
     "output_type": "execute_result"
    }
   ],
   "source": [
    "twitter_acc"
   ]
  },
  {
   "cell_type": "code",
   "execution_count": 48,
   "id": "e6060bcd",
   "metadata": {},
   "outputs": [],
   "source": [
    "text5 = '''\n",
    "Concentration of Risk: Credit Risk\n",
    "Financial instruments that potentially subject us to a concentration of credit risk consist of cash, cash equivalents, marketable securities,\n",
    "restricted cash, accounts receivable, convertible note hedges, and interest rate swaps. Our cash balances are primarily invested in money market funds\n",
    "or on deposit at high credit quality financial institutions in the U.S. These deposits are typically in excess of insured limits. As of September 30, 2021\n",
    "and December 31, 2020, no entity represented 10% or more of our total accounts receivable balance. The risk of concentration for our convertible note\n",
    "hedges and interest rate swaps is mitigated by transacting with several highly-rated multinational banks.\n",
    "Concentration of Risk: Supply Risk\n",
    "We are dependent on our suppliers, including single source suppliers, and the inability of these suppliers to deliver necessary components of our\n",
    "products in a timely manner at prices, quality levels and volumes acceptable to us, or our inability to efficiently manage these components from these\n",
    "suppliers, could have a material adverse effect on our business, prospects, financial condition and operating results.\n",
    "'''\n",
    "pattern7 = 'Concentration of Risk\\:([^\\n]*)'"
   ]
  },
  {
   "cell_type": "code",
   "execution_count": 66,
   "id": "19024927",
   "metadata": {},
   "outputs": [
    {
     "data": {
      "text/plain": [
       "[' Credit Risk', ' Supply Risk']"
      ]
     },
     "execution_count": 66,
     "metadata": {},
     "output_type": "execute_result"
    }
   ],
   "source": [
    "re.findall(pattern7, text5)"
   ]
  },
  {
   "cell_type": "code",
   "execution_count": 67,
   "id": "f2f04079",
   "metadata": {},
   "outputs": [],
   "source": [
    "text6 = '''\n",
    "Tesla's gross cost of operating lease vehicles in FY2021 Q1 was $4.85 billion.\n",
    "BMW's gross cost of operating vehicles in FY2021 S1 was $8 billion.\n",
    "'''"
   ]
  },
  {
   "cell_type": "code",
   "execution_count": 68,
   "id": "d263a924",
   "metadata": {},
   "outputs": [
    {
     "data": {
      "text/plain": [
       "['2021 Q1', '2021 S1']"
      ]
     },
     "execution_count": 68,
     "metadata": {},
     "output_type": "execute_result"
    }
   ],
   "source": [
    "pattern8 = 'FY(\\d{4} (?:Q[1-4]|S[1-2]))'\n",
    "re.findall(pattern8, text6)"
   ]
  }
 ],
 "metadata": {
  "kernelspec": {
   "display_name": "Python 3 (ipykernel)",
   "language": "python",
   "name": "python3"
  },
  "language_info": {
   "codemirror_mode": {
    "name": "ipython",
    "version": 3
   },
   "file_extension": ".py",
   "mimetype": "text/x-python",
   "name": "python",
   "nbconvert_exporter": "python",
   "pygments_lexer": "ipython3",
   "version": "3.9.7"
  }
 },
 "nbformat": 4,
 "nbformat_minor": 5
}
